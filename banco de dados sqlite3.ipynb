{
 "cells": [
  {
   "cell_type": "markdown",
   "id": "85188c71",
   "metadata": {},
   "source": [
    "# Banco de dados SQLite3"
   ]
  },
  {
   "cell_type": "code",
   "execution_count": null,
   "id": "0a82cc7c",
   "metadata": {},
   "outputs": [],
   "source": [
    "#instalando no jupyter\n",
    "!pip install sqlite3"
   ]
  },
  {
   "cell_type": "markdown",
   "id": "46d50977",
   "metadata": {},
   "source": [
    "## Fazendo CRUD\n",
    "CRUD é um acrônimo em inglês que significa Create (Criar), Read (Ler), Update (Atualizar) e Delete (Deletar). Essas são as quatro operações básicas que podem ser realizadas em um banco de dados relacional ou em qualquer outro sistema de gerenciamento de dados."
   ]
  },
  {
   "cell_type": "code",
   "execution_count": null,
   "id": "9103edb2",
   "metadata": {},
   "outputs": [],
   "source": [
    "#importando\n",
    "import sqlite3"
   ]
  },
  {
   "cell_type": "code",
   "execution_count": null,
   "id": "5474f08c",
   "metadata": {},
   "outputs": [],
   "source": [
    "# - cria ou se conecta a um banco de dados SQLite chamado 'banco.db'.\n",
    "banco = sqlite3.connect('banco.db')\n",
    "# Note que, se o BANCO ainda não existir este comando vai criar e se conectar a ele.\n",
    "# Caso o banco já exista este comando só vai se conectar ao banco já existente"
   ]
  },
  {
   "cell_type": "code",
   "execution_count": null,
   "id": "f3c630d6",
   "metadata": {},
   "outputs": [],
   "source": [
    "# Define o cursor, é com ele que iremos fazer alterações no banco de dados\n",
    "cursor = banco.cursor()"
   ]
  },
  {
   "cell_type": "markdown",
   "id": "e2052fbc",
   "metadata": {},
   "source": [
    "## CREATE\n",
    "- Criando uma tabela\n",
    "    - Nesse caso a tabela só é criada caso não exista\n",
    "    - Cria também duas colunas: usuario e senha. Ambos são do tipo texto\n",
    "- Inserindo dados\n",
    "    - Os dados são inseridos na tabela na mesma ordem em que foram criadas as colunas\n",
    "- Depois é necessário dar um commit para salvar tudo"
   ]
  },
  {
   "cell_type": "code",
   "execution_count": null,
   "id": "d7f61d11",
   "metadata": {
    "scrolled": true
   },
   "outputs": [],
   "source": [
    "#  Cria uma tabela chamada 'banco' com duas colunas, 'usuario' e 'senha'.\n",
    "cursor.execute('CREATE TABLE IF NOT EXISTS banco (usuario text, senha text)')\n",
    "# Inserindo dados\n",
    "cursor.execute('INSERT INTO banco VALUES(\"login123\", \"senha123\")')\n",
    "# Salvando as alterações\n",
    "banco.commit()"
   ]
  },
  {
   "cell_type": "markdown",
   "id": "76db5e21",
   "metadata": {},
   "source": [
    "### Observações: \n",
    "- Note que ao declarar as colunas também são declarados os tipos, são eles:\n",
    "    - null - valor nulo.\n",
    "    - integer - valor inteiro, que pode ser positivo, negativo ou zero.\n",
    "    - real - valor de ponto flutuante, que pode representar números fracionários.\n",
    "    - text - valor de texto, que pode ser uma sequência de caracteres.\n",
    "    - blob - valor de blob, que pode ser usado para armazenar dados binários.\n",
    "- O nome da tabela pode ser diferente do nome do banco\n",
    "    - Banco e tabela são duas coisas diferentes\n",
    "    - Um único banco de dados SQLite pode ter várias tabelas.\n",
    "    - Cada tabela é uma estrutura independente e separada dentro do banco de dados."
   ]
  },
  {
   "cell_type": "markdown",
   "id": "e8226574",
   "metadata": {},
   "source": [
    "## READ\n",
    "- Seleciona tudo do banco\n",
    "- Cria uma variavel para armazenar os dados\n",
    "- Mostra os dados"
   ]
  },
  {
   "cell_type": "code",
   "execution_count": null,
   "id": "a574f68f",
   "metadata": {},
   "outputs": [],
   "source": [
    "# lendo dados\n",
    "cursor.execute(\"SELECT * FROM banco\")\n",
    "dados = cursor.fetchall()\n",
    "print(dados)"
   ]
  },
  {
   "cell_type": "markdown",
   "id": "ce8299e6",
   "metadata": {},
   "source": [
    "### Mas e se quisermos inserir um login CASO ele ainda não exista no banco?\n",
    "Para isso vamos usar algumas clausulas usadas anteriormente em CREATE e READ"
   ]
  },
  {
   "cell_type": "code",
   "execution_count": null,
   "id": "a36e8940",
   "metadata": {},
   "outputs": [],
   "source": [
    "# aqui diz algo como: selecione a coluna usuario da tabela banco onde usuario for igual a:\n",
    "cursor = cursor.execute(\"SELECT usuario FROM banco WHERE usuario=?\", ('login123',))\n",
    "resultado = cursor.fetchone()\n",
    "\n",
    "if resultado:\n",
    "    # o usuario já existe na tabela\n",
    "    print(f\"Já existe um cliente com esse login\")\n",
    "else:\n",
    "    # insere o novo cliente na tabela\n",
    "    cursor.execute(\"INSERT INTO banco VALUES('login123', 'senha123')\")\n",
    "    cursor.commit()\n",
    "    print(\"Novo cliente inserido com sucesso!\")"
   ]
  },
  {
   "cell_type": "markdown",
   "id": "88827a4e",
   "metadata": {},
   "source": [
    "## UPDATE"
   ]
  },
  {
   "cell_type": "code",
   "execution_count": null,
   "id": "03f0037c",
   "metadata": {},
   "outputs": [],
   "source": [
    "# Fazendo atualização de dados\n",
    "cursor.execute(\"UPDATE banco SET usuario=? WHERE usuario=?\", ('login_novo', 'login123'))\n",
    "banco.commit()\n",
    "print(\"Cliente atualizado com sucesso!\")"
   ]
  },
  {
   "cell_type": "markdown",
   "id": "6ea7f35d",
   "metadata": {},
   "source": [
    "## DELETE"
   ]
  },
  {
   "cell_type": "code",
   "execution_count": null,
   "id": "8d20f195",
   "metadata": {},
   "outputs": [],
   "source": [
    "# Deletando\n",
    "cursor.execute(\"DELETE FROM banco WHERE usuario='login123'\")"
   ]
  },
  {
   "cell_type": "markdown",
   "id": "d27bfe5c",
   "metadata": {},
   "source": [
    "## Uma pequena aplicação com o sqlite3"
   ]
  },
  {
   "cell_type": "code",
   "execution_count": null,
   "id": "b9772144",
   "metadata": {
    "scrolled": true
   },
   "outputs": [],
   "source": [
    "import sqlite3\n",
    "\n",
    "banco = sqlite3.connect('dados_clientes.db') # cria o banco de dados\n",
    "cursor = banco.cursor()\n",
    "cursor.execute('CREATE TABLE IF NOT EXISTS dados_clientes (usuario text, senha text)') # cria a tabela\n",
    "# cursor.execute(f'INSERT INTO dados_clientes VALUES(\"{usuario}\", \"{senha}\")') # insere valores na tabela\n",
    "\n",
    "while True:\n",
    "    print('1 - criar novo cadastro')\n",
    "    print('2 - consultar cadastro no banco')\n",
    "    print('3 - encerrar')\n",
    "    option1 = input('Digite aqui: ')\n",
    "    if option1 == '1':\n",
    "        print('crie um cadastro')\n",
    "        usuario = input('user: ')\n",
    "        senha = input('passwd: ')\n",
    "        cursor.execute(f'INSERT INTO dados_clientes VALUES(\"{usuario}\", \"{senha}\")') # insere valores na tabela\n",
    "        banco.commit() # comita os dados\n",
    "\n",
    "    elif option1 == '2':\n",
    "        cursor.execute(\"SELECT * FROM dados_clientes\")\n",
    "        dados = cursor.fetchall()\n",
    "        print(dados)\n",
    "        # mostra os dados \n",
    "    elif option1 == '3':\n",
    "        break"
   ]
  }
 ],
 "metadata": {
  "kernelspec": {
   "display_name": "Python 3 (ipykernel)",
   "language": "python",
   "name": "python3"
  },
  "language_info": {
   "codemirror_mode": {
    "name": "ipython",
    "version": 3
   },
   "file_extension": ".py",
   "mimetype": "text/x-python",
   "name": "python",
   "nbconvert_exporter": "python",
   "pygments_lexer": "ipython3",
   "version": "3.9.12"
  }
 },
 "nbformat": 4,
 "nbformat_minor": 5
}
